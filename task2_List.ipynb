{
 "cells": [
  {
   "cell_type": "code",
   "execution_count": 1,
   "id": "aa2010b0",
   "metadata": {},
   "outputs": [],
   "source": [
    "l = [3,4,5,6,7 , [23,456,67,8,78,78] , [345,56,87,8,98,9]\n",
    "     , (234,6657,6) , {\"key1\" :\"sudh\" , 234:[23,45,656]}]"
   ]
  },
  {
   "cell_type": "markdown",
   "id": "daccaefc",
   "metadata": {},
   "source": [
    "# 1 . Try to reverse a list"
   ]
  },
  {
   "cell_type": "code",
   "execution_count": 2,
   "id": "6b068b8b",
   "metadata": {},
   "outputs": [
    {
     "name": "stdout",
     "output_type": "stream",
     "text": [
      "{'key1': 'sudh', 234: [23, 45, 656]}\n",
      "(234, 6657, 6)\n",
      "[345, 56, 87, 8, 98, 9]\n",
      "[23, 456, 67, 8, 78, 78]\n",
      "7\n",
      "6\n",
      "5\n",
      "4\n",
      "3\n"
     ]
    }
   ],
   "source": [
    "for i in reversed(l):\n",
    "    print(i)"
   ]
  },
  {
   "cell_type": "markdown",
   "id": "25faa646",
   "metadata": {},
   "source": [
    "# 2. try to access 234 out of this list "
   ]
  },
  {
   "cell_type": "code",
   "execution_count": 3,
   "id": "dac88f50",
   "metadata": {},
   "outputs": [
    {
     "data": {
      "text/plain": [
       "234"
      ]
     },
     "execution_count": 3,
     "metadata": {},
     "output_type": "execute_result"
    }
   ],
   "source": [
    "l[7][0]"
   ]
  },
  {
   "cell_type": "markdown",
   "id": "c02ad2de",
   "metadata": {},
   "source": [
    "# 3 . try to access 456"
   ]
  },
  {
   "cell_type": "code",
   "execution_count": 4,
   "id": "e9108259",
   "metadata": {},
   "outputs": [
    {
     "data": {
      "text/plain": [
       "456"
      ]
     },
     "execution_count": 4,
     "metadata": {},
     "output_type": "execute_result"
    }
   ],
   "source": [
    "l[5][1]"
   ]
  },
  {
   "cell_type": "markdown",
   "id": "e0660a76",
   "metadata": {},
   "source": [
    "# 4 . Try to extract only a list collection form list l"
   ]
  },
  {
   "cell_type": "code",
   "execution_count": 5,
   "id": "bcd6f79c",
   "metadata": {},
   "outputs": [
    {
     "name": "stdout",
     "output_type": "stream",
     "text": [
      "[3, 4, 5, 6, 7, [23, 456, 67, 8, 78, 78], [345, 56, 87, 8, 98, 9]]\n"
     ]
    }
   ],
   "source": [
    "l1=l[0:7]\n",
    "print(l1)"
   ]
  },
  {
   "cell_type": "markdown",
   "id": "c932e118",
   "metadata": {},
   "source": [
    "# 5 . Try to extract \"sudh\""
   ]
  },
  {
   "cell_type": "code",
   "execution_count": 6,
   "id": "624c4f07",
   "metadata": {},
   "outputs": [
    {
     "name": "stdout",
     "output_type": "stream",
     "text": [
      "sudh\n"
     ]
    }
   ],
   "source": [
    "d=l[8][\"key1\"]\n",
    "print(d)"
   ]
  },
  {
   "cell_type": "markdown",
   "id": "609ccbb2",
   "metadata": {},
   "source": [
    "# 6 . Try to list all the key in dict element avaible in list "
   ]
  },
  {
   "cell_type": "code",
   "execution_count": 7,
   "id": "c10051bb",
   "metadata": {},
   "outputs": [
    {
     "name": "stdout",
     "output_type": "stream",
     "text": [
      "['key1', 234]\n"
     ]
    }
   ],
   "source": [
    "d1=list(l[8])\n",
    "print(d1)"
   ]
  },
  {
   "cell_type": "markdown",
   "id": "193d37c7",
   "metadata": {},
   "source": [
    "# 7 . Try to extract all the value element form dict available in list"
   ]
  },
  {
   "cell_type": "code",
   "execution_count": 8,
   "id": "2f79d632",
   "metadata": {},
   "outputs": [
    {
     "name": "stdout",
     "output_type": "stream",
     "text": [
      "dict_values(['sudh', [23, 45, 656]])\n"
     ]
    }
   ],
   "source": [
    "l2=[]\n",
    "l2.append(l[8])\n",
    "for i in l2:\n",
    "    values=i.values()\n",
    "    print(values)"
   ]
  },
  {
   "cell_type": "code",
   "execution_count": null,
   "id": "f64060aa",
   "metadata": {},
   "outputs": [],
   "source": []
  }
 ],
 "metadata": {
  "kernelspec": {
   "display_name": "Python 3 (ipykernel)",
   "language": "python",
   "name": "python3"
  },
  "language_info": {
   "codemirror_mode": {
    "name": "ipython",
    "version": 3
   },
   "file_extension": ".py",
   "mimetype": "text/x-python",
   "name": "python",
   "nbconvert_exporter": "python",
   "pygments_lexer": "ipython3",
   "version": "3.9.7"
  }
 },
 "nbformat": 4,
 "nbformat_minor": 5
}
