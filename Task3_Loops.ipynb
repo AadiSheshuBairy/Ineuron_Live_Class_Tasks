{
 "cells": [
  {
   "cell_type": "raw",
   "id": "9956ac1e",
   "metadata": {},
   "source": [
    "ineruon \n",
    "ineruon ineruon \n",
    "ineruon ineruon ineruon\n",
    "ineruon ineruon ineruon ineruon       (Q1)"
   ]
  },
  {
   "cell_type": "code",
   "execution_count": 1,
   "id": "f48d4f1e",
   "metadata": {},
   "outputs": [
    {
     "name": "stdout",
     "output_type": "stream",
     "text": [
      "\n",
      "\n",
      "ineuron \n",
      "\n",
      "ineuron ineuron \n",
      "\n",
      "ineuron ineuron ineuron \n",
      "\n",
      "ineuron ineuron ineuron ineuron \n",
      "\n"
     ]
    }
   ],
   "source": [
    "for i in range(5):\n",
    "    for j in range(0,i):\n",
    "        print(\"ineuron\",end=\" \")\n",
    "    print(\"\\n\")"
   ]
  },
  {
   "cell_type": "raw",
   "id": "19b32192",
   "metadata": {},
   "source": [
    "q2 - \n",
    "\n",
    "          ineruon\n",
    "    ineruon      ineruon\n",
    "ineruon\t\tineruon \tineruon\n",
    "\tineruon\t\t ineruon\n",
    "\t\t  ineruon"
   ]
  },
  {
   "cell_type": "code",
   "execution_count": 2,
   "id": "21835934",
   "metadata": {},
   "outputs": [
    {
     "name": "stdout",
     "output_type": "stream",
     "text": [
      "          ineuron                                         \n",
      "       ineuron ineuron                             \n",
      "    ineuron ineuron ineuron                 \n",
      " ineuron ineuron ineuron ineuron     \n"
     ]
    }
   ],
   "source": [
    "n=4\n",
    "k=n\n",
    "for i in range(n):\n",
    "    k=k-1\n",
    "    print('   '*k, end=' ')\n",
    "    for j in range(i+1):\n",
    "        print('ineuron', end=' ')\n",
    "    for j in range(n):\n",
    "        print('   '*k, end=' ')\n",
    "    print()"
   ]
  },
  {
   "cell_type": "code",
   "execution_count": 3,
   "id": "1b8cf15d",
   "metadata": {},
   "outputs": [],
   "source": [
    "l = [[1,2,3,4] , (2,3,4,5,6) ,\n",
    "     (3,4,5,6,7) ,set([23,4,5,45,4,4,5,45,45,4,5]) , \n",
    "     {'k1' :\"sudh\" , \"k2\" : \"ineuron\",\"k3\":\n",
    "    \"kumar\" , 3:6 , 7:8} , [\"ineuron\" , \"data science \"]]"
   ]
  },
  {
   "cell_type": "markdown",
   "id": "d6a57796",
   "metadata": {},
   "source": [
    "# q3 : Try to extract all the list entity "
   ]
  },
  {
   "cell_type": "code",
   "execution_count": 4,
   "id": "793db502",
   "metadata": {},
   "outputs": [
    {
     "name": "stdout",
     "output_type": "stream",
     "text": [
      "[[1, 2, 3, 4], ['ineuron', 'data science ']]\n"
     ]
    }
   ],
   "source": [
    "l4=[]\n",
    "for i in l:\n",
    "    if type(i)==list:\n",
    "        l4.append(i)\n",
    "print(l4)"
   ]
  },
  {
   "cell_type": "markdown",
   "id": "fbc5fe2b",
   "metadata": {},
   "source": [
    "# q4 : Try to extract all the dict enteties"
   ]
  },
  {
   "cell_type": "code",
   "execution_count": 5,
   "id": "85eb3e40",
   "metadata": {},
   "outputs": [
    {
     "name": "stdout",
     "output_type": "stream",
     "text": [
      "[{'k1': 'sudh', 'k2': 'ineuron', 'k3': 'kumar', 3: 6, 7: 8}]\n"
     ]
    }
   ],
   "source": [
    "d=[]\n",
    "for i in l:\n",
    "    if type(i)==dict:\n",
    "        d.append(i)\n",
    "print(d)"
   ]
  },
  {
   "cell_type": "markdown",
   "id": "b8f7406d",
   "metadata": {},
   "source": [
    "# q5 : Try to extract all the tuples entities"
   ]
  },
  {
   "cell_type": "code",
   "execution_count": 6,
   "id": "41710497",
   "metadata": {},
   "outputs": [
    {
     "name": "stdout",
     "output_type": "stream",
     "text": [
      "[(2, 3, 4, 5, 6), (3, 4, 5, 6, 7)]\n"
     ]
    }
   ],
   "source": [
    "t=[]\n",
    "for i in l:\n",
    "    if type(i)==tuple:\n",
    "        t.append(i)\n",
    "print(t)"
   ]
  },
  {
   "cell_type": "markdown",
   "id": "ca1da66c",
   "metadata": {},
   "source": [
    "# q6 : Try to extract all the numerical data it may b a part of dict key and values "
   ]
  },
  {
   "cell_type": "code",
   "execution_count": 7,
   "id": "0eab43fc",
   "metadata": {},
   "outputs": [
    {
     "name": "stdout",
     "output_type": "stream",
     "text": [
      "The numerical data extracted from given data :  [1, 2, 3, 4, 2, 3, 4, 5, 6, 3, 4, 5, 6, 7, 45, 4, 5, 23, 3, 7]\n"
     ]
    }
   ],
   "source": [
    "l1=[]\n",
    "numeric=[]\n",
    "d=l[4]\n",
    "\n",
    "for i in l:\n",
    "    if type(i)==list or type(i)==tuple:\n",
    "        l1.append(list(i))\n",
    "    for j in i:\n",
    "        if type(j)==int:\n",
    "            numeric.append(j)\n",
    "        for k in d.values():\n",
    "            if type(i)==int:\n",
    "                numeric.append(i)\n",
    "            for m in d.keys():\n",
    "                if type(i)==int:\n",
    "                    numeric.append(j)\n",
    "print(\"The numerical data extracted from given data : \",numeric)  "
   ]
  },
  {
   "cell_type": "markdown",
   "id": "aa0801b0",
   "metadata": {},
   "source": [
    "# q7 : Try to give summation of all the numeric data "
   ]
  },
  {
   "cell_type": "code",
   "execution_count": 8,
   "id": "af40d412",
   "metadata": {},
   "outputs": [
    {
     "data": {
      "text/plain": [
       "142"
      ]
     },
     "execution_count": 8,
     "metadata": {},
     "output_type": "execute_result"
    }
   ],
   "source": [
    "#from the above code we have extracted all the numeric data from the given list\n",
    "sum(numeric) "
   ]
  },
  {
   "cell_type": "markdown",
   "id": "fc8c4c59",
   "metadata": {},
   "source": [
    "# q8 : Try to filter out all the odd values out all numeric data which is a part of a list "
   ]
  },
  {
   "cell_type": "code",
   "execution_count": 9,
   "id": "eb869ab5",
   "metadata": {},
   "outputs": [
    {
     "name": "stdout",
     "output_type": "stream",
     "text": [
      "The odd values from the numeric data : [1, 3, 3, 5, 3, 5, 7, 45, 5, 23, 3, 7]\n",
      "The even values from the numeric data : [2, 4, 2, 4, 6, 4, 6, 4]\n"
     ]
    }
   ],
   "source": [
    "odd=[]\n",
    "even=[]\n",
    "for num in numeric:\n",
    "      \n",
    "    # checking condition\n",
    "    if num % 2 != 0:\n",
    "       odd.append(num)\n",
    "    else:\n",
    "        even.append(num)\n",
    "print(\"The odd values from the numeric data :\",odd)\n",
    "print(\"The even values from the numeric data :\",even)"
   ]
  },
  {
   "cell_type": "markdown",
   "id": "e8dce0c0",
   "metadata": {},
   "source": [
    "# q9 : Try to extract \"ineruon\" out of this data"
   ]
  },
  {
   "cell_type": "code",
   "execution_count": 10,
   "id": "7c001db5",
   "metadata": {},
   "outputs": [
    {
     "name": "stdout",
     "output_type": "stream",
     "text": [
      "ineuron\n",
      "ineuron\n"
     ]
    }
   ],
   "source": [
    "for i in d.values():\n",
    "    if i ==\"ineuron\":\n",
    "        print(i)\n",
    "print(l1[3][0])\n"
   ]
  },
  {
   "cell_type": "markdown",
   "id": "35e15282",
   "metadata": {},
   "source": [
    "# q10 :Try to find out a number of occurances of all the data "
   ]
  },
  {
   "cell_type": "code",
   "execution_count": 17,
   "id": "7d613e79",
   "metadata": {},
   "outputs": [
    {
     "name": "stdout",
     "output_type": "stream",
     "text": [
      "{1: 1, 2: 2, 3: 4, 4: 4, 5: 3, 6: 2, 7: 2, 45: 1, 23: 1, 'sudh': 1, 'ineuron': 2, 'kumar': 1, 'data science ': 1}\n"
     ]
    }
   ],
   "source": [
    "d5={}\n",
    "for i in all:\n",
    "    if i not in d5:\n",
    "        d5[i]=all.count(i)\n",
    "print(d5)"
   ]
  },
  {
   "cell_type": "markdown",
   "id": "2563f61c",
   "metadata": {},
   "source": [
    "# q11 : Try to find out number of keys in dict element"
   ]
  },
  {
   "cell_type": "code",
   "execution_count": 13,
   "id": "f0da75a7",
   "metadata": {
    "scrolled": true
   },
   "outputs": [
    {
     "name": "stdout",
     "output_type": "stream",
     "text": [
      "dict_keys(['k1', 'k2', 'k3', 3, 7])\n",
      "5\n"
     ]
    }
   ],
   "source": [
    "d1=l[4]\n",
    "d2=d1.keys()\n",
    "print(d2)\n",
    "print(len(d2))"
   ]
  },
  {
   "cell_type": "markdown",
   "id": "fc0d216f",
   "metadata": {},
   "source": [
    "# q12 : Try to filter out all the string data "
   ]
  },
  {
   "cell_type": "code",
   "execution_count": 14,
   "id": "14e9d9dc",
   "metadata": {},
   "outputs": [
    {
     "name": "stdout",
     "output_type": "stream",
     "text": [
      "['sudh', 'ineuron', 'kumar', 'ineuron', 'data science ']\n"
     ]
    }
   ],
   "source": [
    "s=[]\n",
    "d3=l[4]\n",
    "for i in d3.values():\n",
    "    if type(i)==str:\n",
    "        s.append(i)\n",
    "s.extend(l[5])\n",
    "print(s)"
   ]
  },
  {
   "cell_type": "markdown",
   "id": "d9d3b972",
   "metadata": {},
   "source": [
    "# q13 : Try to find out multiplication of all numeric value in  the individual collection inside dataset "
   ]
  },
  {
   "cell_type": "code",
   "execution_count": 15,
   "id": "25e6d016",
   "metadata": {},
   "outputs": [
    {
     "name": "stdout",
     "output_type": "stream",
     "text": [
      "1 4 9 16 4 9 16 25 36 9 16 25 36 49 2025 16 25 529 9 49 "
     ]
    }
   ],
   "source": [
    "for i in numeric:\n",
    "    print(i*i,end=' ')"
   ]
  },
  {
   "cell_type": "markdown",
   "id": "2083e68e",
   "metadata": {},
   "source": [
    "# q14 : Try to unwrape all the collection inside collection and create a flat list \n",
    "    "
   ]
  },
  {
   "cell_type": "code",
   "execution_count": 16,
   "id": "3f20daa2",
   "metadata": {},
   "outputs": [
    {
     "name": "stdout",
     "output_type": "stream",
     "text": [
      "[1, 2, 3, 4, 2, 3, 4, 5, 6, 3, 4, 5, 6, 7, 45, 4, 5, 23, 3, 7, 'sudh', 'ineuron', 'kumar', 'ineuron', 'data science ']\n"
     ]
    }
   ],
   "source": [
    "all=[]\n",
    "all.extend(numeric)\n",
    "all.extend(s)\n",
    "print(all)"
   ]
  },
  {
   "cell_type": "markdown",
   "id": "521a3fb8",
   "metadata": {},
   "source": [
    "                                                  # THANK YOU"
   ]
  }
 ],
 "metadata": {
  "kernelspec": {
   "display_name": "Python 3 (ipykernel)",
   "language": "python",
   "name": "python3"
  },
  "language_info": {
   "codemirror_mode": {
    "name": "ipython",
    "version": 3
   },
   "file_extension": ".py",
   "mimetype": "text/x-python",
   "name": "python",
   "nbconvert_exporter": "python",
   "pygments_lexer": "ipython3",
   "version": "3.9.7"
  }
 },
 "nbformat": 4,
 "nbformat_minor": 5
}
