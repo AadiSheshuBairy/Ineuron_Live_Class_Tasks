{
 "cells": [
  {
   "cell_type": "code",
   "execution_count": 1,
   "id": "e7fca431",
   "metadata": {},
   "outputs": [],
   "source": [
    "s =\"this is my First Python programming class and iam learNING string and its function\""
   ]
  },
  {
   "cell_type": "code",
   "execution_count": 2,
   "id": "07b59ad8",
   "metadata": {},
   "outputs": [
    {
     "data": {
      "text/plain": [
       "'h   r tnrrmglsni aI rgni ni'"
      ]
     },
     "execution_count": 2,
     "metadata": {},
     "output_type": "execute_result"
    }
   ],
   "source": [
    "'''1. Try to extract data from index one to 300 with a jump of 3'''\n",
    "\n",
    "s[1:300:3]   # here \"1\" is starting index, \"300\" ending point, and \"3\" is jump"
   ]
  },
  {
   "cell_type": "code",
   "execution_count": 3,
   "id": "d360bf9a",
   "metadata": {},
   "outputs": [
    {
     "data": {
      "text/plain": [
       "'noitcnuf sti dna gnirts GNINrael mai dna ssalc gnimmargorp nohtyP tsriF ym si siht'"
      ]
     },
     "execution_count": 3,
     "metadata": {},
     "output_type": "execute_result"
    }
   ],
   "source": [
    "'''2. Try to reverse a string without using reverse function'''\n",
    "\n",
    "s[::-1]"
   ]
  },
  {
   "cell_type": "code",
   "execution_count": 4,
   "id": "13e8829a",
   "metadata": {},
   "outputs": [
    {
     "data": {
      "text/plain": [
       "'THIS IS MY FIRST PYTHON PROGRAMMING CLASS AND IAM LEARNING STRING AND ITS FUNCTION'"
      ]
     },
     "execution_count": 4,
     "metadata": {},
     "output_type": "execute_result"
    }
   ],
   "source": [
    "'''3. Try to spilt a string after conversion of entire string in uppercase'''\n",
    "\n",
    "s1 = s.upper()\n",
    "\n",
    "s1"
   ]
  },
  {
   "cell_type": "code",
   "execution_count": 5,
   "id": "9a9323a4",
   "metadata": {},
   "outputs": [
    {
     "data": {
      "text/plain": [
       "['THIS',\n",
       " 'IS',\n",
       " 'MY',\n",
       " 'FIRST',\n",
       " 'PYTHON',\n",
       " 'PROGRAMMING',\n",
       " 'CLASS',\n",
       " 'AND',\n",
       " 'IAM',\n",
       " 'LEARNING',\n",
       " 'STRING',\n",
       " 'AND',\n",
       " 'ITS',\n",
       " 'FUNCTION']"
      ]
     },
     "execution_count": 5,
     "metadata": {},
     "output_type": "execute_result"
    }
   ],
   "source": [
    "s1.split()"
   ]
  },
  {
   "cell_type": "code",
   "execution_count": 6,
   "id": "37503f8c",
   "metadata": {},
   "outputs": [
    {
     "data": {
      "text/plain": [
       "'this is my first python programming class and iam learning string and its function'"
      ]
     },
     "execution_count": 6,
     "metadata": {},
     "output_type": "execute_result"
    }
   ],
   "source": [
    "'''4. Try to convert the whole string into lower case'''\n",
    "\n",
    "s1.lower()"
   ]
  },
  {
   "cell_type": "code",
   "execution_count": 7,
   "id": "7620d469",
   "metadata": {},
   "outputs": [
    {
     "data": {
      "text/plain": [
       "'This is my first python programming class and iam learning string and its function'"
      ]
     },
     "execution_count": 7,
     "metadata": {},
     "output_type": "execute_result"
    }
   ],
   "source": [
    "'''5. Try to capitalize the whole string'''\n",
    "\n",
    "s.capitalize()"
   ]
  },
  {
   "cell_type": "code",
   "execution_count": 8,
   "id": "dcd14ce6",
   "metadata": {},
   "outputs": [
    {
     "data": {
      "text/plain": [
       "True"
      ]
     },
     "execution_count": 8,
     "metadata": {},
     "output_type": "execute_result"
    }
   ],
   "source": [
    "'''6. Write the difference b/w isalnum() & isalpha() ?.\n",
    "Ans: isalnum is the methon in python which gives output as True when the value is alphanumeric, and gives output\n",
    "as false when value dosenot have any alphanumeric values.'''\n",
    "#for example ;\n",
    "\n",
    "a = \"Aadi345\"\n",
    "\n",
    "a.isalnum()    # here the value has alphanumeric so, it returns True."
   ]
  },
  {
   "cell_type": "code",
   "execution_count": 9,
   "id": "e0936b2a",
   "metadata": {},
   "outputs": [
    {
     "data": {
      "text/plain": [
       "False"
      ]
     },
     "execution_count": 9,
     "metadata": {},
     "output_type": "execute_result"
    }
   ],
   "source": [
    "a = \"\"\n",
    "a.isalnum() # here there are no alphanumeric so, it returns as False."
   ]
  },
  {
   "cell_type": "code",
   "execution_count": 10,
   "id": "ffd64942",
   "metadata": {},
   "outputs": [
    {
     "data": {
      "text/plain": [
       "True"
      ]
     },
     "execution_count": 10,
     "metadata": {},
     "output_type": "execute_result"
    }
   ],
   "source": [
    "'''Where as, the isalpha() is also a method in python which gives the output True when\n",
    "the values has alphabets and gives False when the value not have alphabets '''\n",
    "\n",
    "#for example; \n",
    "\n",
    "a = \"Aadi\"\n",
    "\n",
    "a.isalpha()\n"
   ]
  },
  {
   "cell_type": "code",
   "execution_count": 11,
   "id": "cb5c9377",
   "metadata": {},
   "outputs": [
    {
     "data": {
      "text/plain": [
       "False"
      ]
     },
     "execution_count": 11,
     "metadata": {},
     "output_type": "execute_result"
    }
   ],
   "source": [
    "a1 = \"Aadi345\"\n",
    "\n",
    "a1.isalpha()"
   ]
  },
  {
   "cell_type": "code",
   "execution_count": 12,
   "id": "bd27cf3d",
   "metadata": {},
   "outputs": [
    {
     "data": {
      "text/plain": [
       "'Iam     student at      ineuron '"
      ]
     },
     "execution_count": 12,
     "metadata": {},
     "output_type": "execute_result"
    }
   ],
   "source": [
    "'''7. Try to give an example of expand tab'''\n",
    "\n",
    "#example for expand tabs\n",
    "\n",
    "tab = \"Iam\\tstudent\\tat\\tineuron \"\n",
    "\n",
    "tab.expandtabs()"
   ]
  },
  {
   "cell_type": "code",
   "execution_count": 13,
   "id": "31e373a2",
   "metadata": {},
   "outputs": [
    {
     "data": {
      "text/plain": [
       "'AADI'"
      ]
     },
     "execution_count": 13,
     "metadata": {},
     "output_type": "execute_result"
    }
   ],
   "source": [
    "'''8. Give an example of strip, lstrip, and rstrip '''\n",
    "\n",
    "t = \"                    AADI                             \"\n",
    "t.strip()"
   ]
  },
  {
   "cell_type": "code",
   "execution_count": 14,
   "id": "e7c5dc21",
   "metadata": {},
   "outputs": [
    {
     "data": {
      "text/plain": [
       "'                    AADI'"
      ]
     },
     "execution_count": 14,
     "metadata": {},
     "output_type": "execute_result"
    }
   ],
   "source": [
    "t.rstrip()"
   ]
  },
  {
   "cell_type": "code",
   "execution_count": 15,
   "id": "56394d91",
   "metadata": {},
   "outputs": [
    {
     "data": {
      "text/plain": [
       "'AADI                             '"
      ]
     },
     "execution_count": 15,
     "metadata": {},
     "output_type": "execute_result"
    }
   ],
   "source": [
    "t.lstrip()"
   ]
  },
  {
   "cell_type": "code",
   "execution_count": 16,
   "id": "4b08a0cb",
   "metadata": {},
   "outputs": [],
   "source": [
    "'''9. Replace a string character by another character by taking your own example'''\n",
    "\n",
    "a = \"Aadi\"\n",
    "b = a.replace(\"Aadi\",\"Goud\")"
   ]
  },
  {
   "cell_type": "code",
   "execution_count": 17,
   "id": "968026cd",
   "metadata": {},
   "outputs": [
    {
     "data": {
      "text/plain": [
       "'Goud'"
      ]
     },
     "execution_count": 17,
     "metadata": {},
     "output_type": "execute_result"
    }
   ],
   "source": [
    "b"
   ]
  },
  {
   "cell_type": "code",
   "execution_count": 18,
   "id": "f9b6e7aa",
   "metadata": {},
   "outputs": [
    {
     "data": {
      "text/plain": [
       "'******ineuron*******'"
      ]
     },
     "execution_count": 18,
     "metadata": {},
     "output_type": "execute_result"
    }
   ],
   "source": [
    "'''10. Try to give a defination of string center function with one example '''\n",
    "\n",
    "#center is the string function in python which we can bring the value to center using our own elements and length.\n",
    "\n",
    "#syntax; variable.center(value,\"own element\")\n",
    "\n",
    "c = \"ineuron\"\n",
    "\n",
    "c.center(20,\"*\")"
   ]
  },
  {
   "cell_type": "code",
   "execution_count": 19,
   "id": "dc1d0278",
   "metadata": {},
   "outputs": [
    {
     "data": {
      "text/plain": [
       "'Interpreter is the program which checks the block of code line by line and gives the output/error'"
      ]
     },
     "execution_count": 19,
     "metadata": {},
     "output_type": "execute_result"
    }
   ],
   "source": [
    "'''11. Write your own defination of compiler and interpreter without copy paste from internet'''\n",
    "\n",
    "#compiler:\n",
    "\n",
    "'''Compiler is the program which checks the block of code at a time and gives output/error.'''\n",
    "\n",
    "#Interpreter:\n",
    "\n",
    "'''Interpreter is the program which checks the block of code line by line and gives the output/error'''"
   ]
  },
  {
   "cell_type": "code",
   "execution_count": 20,
   "id": "114f2b4f",
   "metadata": {},
   "outputs": [
    {
     "data": {
      "text/plain": [
       "'Yes, python is a interpreted of compiled language because in interpreter itself it has compiler which \\ncompiles the code to byte code and then to virtual machine code this all process is done in intrepreter itself \\nso the python is a interpreted of compiled language'"
      ]
     },
     "execution_count": 20,
     "metadata": {},
     "output_type": "execute_result"
    }
   ],
   "source": [
    "'''12.  Python is a interpreted of compiled language give a clear ans  with your understanding'''\n",
    "#Answer: \n",
    "'''Yes, python is a interpreted of compiled language because in interpreter itself it has compiler which \n",
    "compiles the code to byte code and then to virtual machine code this all process is done in intrepreter itself \n",
    "so the python is a interpreted of compiled language'''"
   ]
  },
  {
   "cell_type": "code",
   "execution_count": 21,
   "id": "6e29ed39",
   "metadata": {},
   "outputs": [
    {
     "data": {
      "text/plain": [
       "'Python is a high level programming language which has more libraries.\\npython is very useful for data science because it has more libraries.\\npython is used in backend and frontend developement.\\npython is used in testing.\\npython is used in game developement.\\n'"
      ]
     },
     "execution_count": 21,
     "metadata": {},
     "output_type": "execute_result"
    }
   ],
   "source": [
    "'''13. Try to write a usecase of python with your understanding'''\n",
    "\n",
    "'''Python is a high level programming language which has more libraries.\n",
    "python is very useful for data science because it has more libraries.\n",
    "python is used in backend and frontend developement.\n",
    "python is used in testing.\n",
    "python is used in game developement.\n",
    "'''\n",
    "\n"
   ]
  },
  {
   "cell_type": "code",
   "execution_count": null,
   "id": "2400c23b",
   "metadata": {},
   "outputs": [],
   "source": []
  }
 ],
 "metadata": {
  "kernelspec": {
   "display_name": "Python 3 (ipykernel)",
   "language": "python",
   "name": "python3"
  },
  "language_info": {
   "codemirror_mode": {
    "name": "ipython",
    "version": 3
   },
   "file_extension": ".py",
   "mimetype": "text/x-python",
   "name": "python",
   "nbconvert_exporter": "python",
   "pygments_lexer": "ipython3",
   "version": "3.9.7"
  }
 },
 "nbformat": 4,
 "nbformat_minor": 5
}
